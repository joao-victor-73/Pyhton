{
 "cells": [
  {
   "cell_type": "markdown",
   "id": "51940669",
   "metadata": {},
   "source": [
    "# Numpy"
   ]
  },
  {
   "cell_type": "code",
   "execution_count": 1,
   "id": "caa27573",
   "metadata": {},
   "outputs": [],
   "source": [
    "# importando as bibliotecas\n",
    "import numpy as np"
   ]
  },
  {
   "cell_type": "markdown",
   "id": "5f7d103c",
   "metadata": {},
   "source": [
    "# Criação de arrays"
   ]
  },
  {
   "cell_type": "code",
   "execution_count": 2,
   "id": "88aa159e",
   "metadata": {},
   "outputs": [
    {
     "name": "stdout",
     "output_type": "stream",
     "text": [
      "O array X é: [1 2 3 4 5]\n",
      "O shape é: (5,)\n"
     ]
    }
   ],
   "source": [
    "# Criação de um array 1D:\n",
    "lista_1d = [1, 2, 3, 4, 5]\n",
    "x = np.array(lista_1d)\n",
    "print(f\"O array X é: {x}\")\n",
    "print(f\"O shape é: {x.shape}\")"
   ]
  },
  {
   "cell_type": "markdown",
   "id": "52c9160c",
   "metadata": {},
   "source": [
    "Para a criação de um array 2D, é preciso, para cada linha, se criar uma lista, então será uma lista dentro de outra lista.\n",
    "\n",
    "Cada lista vai representar uma linha do nosso array."
   ]
  },
  {
   "cell_type": "code",
   "execution_count": 4,
   "id": "4c60a5c2",
   "metadata": {},
   "outputs": [
    {
     "name": "stdout",
     "output_type": "stream",
     "text": [
      "O array X é:\n",
      " [[1 2 3 4]\n",
      " [5 6 7 8]]\n",
      "O shape é: (2, 4)\n"
     ]
    }
   ],
   "source": [
    "# Criação de um array 2D:\n",
    "#              linha 1       linha 2\n",
    "lista_2d = [[1, 2, 3, 4], [5, 6, 7, 8]]\n",
    "y = np.array(lista_2d)\n",
    "print(f\"O array X é:\\n {y}\")\n",
    "print(f\"O shape é: {y.shape}\")"
   ]
  },
  {
   "cell_type": "markdown",
   "id": "ffa32f9a",
   "metadata": {},
   "source": [
    "**------------------------------------------------------------------------**"
   ]
  },
  {
   "cell_type": "code",
   "execution_count": 8,
   "id": "e66baafd",
   "metadata": {},
   "outputs": [
    {
     "name": "stdout",
     "output_type": "stream",
     "text": [
      "O array X é:\n",
      " [[0. 0.]\n",
      " [0. 0.]\n",
      " [0. 0.]\n",
      " [0. 0.]\n",
      " [0. 0.]]\n",
      "O shape é: (5, 2)\n"
     ]
    }
   ],
   "source": [
    "# Criar um array que contenha apenas zeros:\n",
    "zerolist = (5, 2) # 5(l) são quant de linha, 2(c) são a quant de colunas.\n",
    "x = np.zeros(zerolist)\n",
    "print(f\"O array X é:\\n {x}\")\n",
    "print(f\"O shape é: {x.shape}\")"
   ]
  },
  {
   "cell_type": "code",
   "execution_count": 11,
   "id": "fccb9a5e",
   "metadata": {},
   "outputs": [
    {
     "name": "stdout",
     "output_type": "stream",
     "text": [
      "O array X é:\n",
      " [[1. 1. 1. 1. 1.]\n",
      " [1. 1. 1. 1. 1.]\n",
      " [1. 1. 1. 1. 1.]\n",
      " [1. 1. 1. 1. 1.]\n",
      " [1. 1. 1. 1. 1.]]\n",
      "O shape é: (5, 5)\n"
     ]
    }
   ],
   "source": [
    "# Criar um array que contenha apenas uns:\n",
    "tamanho = (5, 5) # 1º valor é quant de linha, 2ª valor é a quant de colunas.\n",
    "x = np.ones(tamanho)\n",
    "print(f\"O array X é:\\n {x}\")\n",
    "print(f\"O shape é: {x.shape}\")"
   ]
  },
  {
   "cell_type": "markdown",
   "id": "08884373",
   "metadata": {},
   "source": [
    "**--------------------------------------------------------------**\n",
    "\n",
    "Criação de valores dentro de um intervalo"
   ]
  },
  {
   "cell_type": "code",
   "execution_count": 12,
   "id": "ea4b417f",
   "metadata": {},
   "outputs": [
    {
     "name": "stdout",
     "output_type": "stream",
     "text": [
      "O array X é:\n",
      " [ 5.  7.  9. 11. 13. 15.]\n",
      "O shape é: (6,)\n"
     ]
    }
   ],
   "source": [
    "# Criação de valores dentro de um intervalo com linspace\n",
    "\n",
    "# Valores uniformes entre 5 e 15\n",
    "x_min, x_max = 5, 15\n",
    "x = np.linspace(start = x_min, stop = x_max, num=6)\n",
    "print(f\"O array X é:\\n {x}\")\n",
    "print(f\"O shape é: {x.shape}\")"
   ]
  },
  {
   "cell_type": "markdown",
   "id": "10f45934",
   "metadata": {},
   "source": [
    "**-----------------------------------------------------------------------------------------------------------------------**\n",
    "\n",
    "\n",
    "                           Matriz identidade\n",
    "\n",
    "\n",
    "A matriz identidade é um tipo de matriz que sua diagonal principal é composta apenas por número 1 e seus elementos fora das diagnoais, são 0."
   ]
  },
  {
   "cell_type": "code",
   "execution_count": 14,
   "id": "627fedfe",
   "metadata": {},
   "outputs": [
    {
     "name": "stdout",
     "output_type": "stream",
     "text": [
      "X:\n",
      " [[1. 0. 0. 0.]\n",
      " [0. 1. 0. 0.]\n",
      " [0. 0. 1. 0.]\n",
      " [0. 0. 0. 1.]]\n",
      "\n",
      "Shape: (4, 4)\n"
     ]
    }
   ],
   "source": [
    "n = 4\n",
    "x = np.eye(n) # eye() é para criar a matriz identidade\n",
    "print(f\"X:\\n {x}\")\n",
    "print(f\"\\nShape: {x.shape}\")"
   ]
  },
  {
   "cell_type": "markdown",
   "id": "3aec7f03",
   "metadata": {},
   "source": [
    "**-----------------------------------------------------------------------------------------------------------------------**"
   ]
  },
  {
   "cell_type": "code",
   "execution_count": 15,
   "id": "216e0c0e",
   "metadata": {},
   "outputs": [
    {
     "name": "stdout",
     "output_type": "stream",
     "text": [
      "X:\n",
      " [[0.10176857 0.60567453 0.02911358]\n",
      " [0.7671765  0.08657151 0.18680719]]\n",
      "\n",
      "Shape: (2, 3)\n"
     ]
    }
   ],
   "source": [
    "# Criação de valores aleatórios\n",
    "x = np.random.random(size=(2,3))\n",
    "print(f\"X:\\n {x}\")\n",
    "print(f\"\\nShape: {x.shape}\")"
   ]
  }
 ],
 "metadata": {
  "kernelspec": {
   "display_name": "Python 3 (ipykernel)",
   "language": "python",
   "name": "python3"
  },
  "language_info": {
   "codemirror_mode": {
    "name": "ipython",
    "version": 3
   },
   "file_extension": ".py",
   "mimetype": "text/x-python",
   "name": "python",
   "nbconvert_exporter": "python",
   "pygments_lexer": "ipython3",
   "version": "3.10.6"
  }
 },
 "nbformat": 4,
 "nbformat_minor": 5
}
