{
 "cells": [
  {
   "cell_type": "markdown",
   "id": "51484830",
   "metadata": {},
   "source": [
    "# Indexação de arrays"
   ]
  },
  {
   "cell_type": "code",
   "execution_count": 1,
   "id": "d47e5ba0",
   "metadata": {},
   "outputs": [],
   "source": [
    "import numpy as np"
   ]
  },
  {
   "cell_type": "code",
   "execution_count": 2,
   "id": "b77b1c10",
   "metadata": {},
   "outputs": [
    {
     "name": "stdout",
     "output_type": "stream",
     "text": [
      "X:  [ 10.  20.  30.  40.  50.  60.  70.  80.  90. 100.]\n",
      "Shape:  (10,)\n"
     ]
    }
   ],
   "source": [
    "# os índices no Python vão de 0 a n-1,\n",
    "# onde n é o tamanho da dimensão.\n",
    "\n",
    "# Criando uma matriz 1D:\n",
    "x = np.linspace(start=10, stop=100, num=10) \n",
    "print(\"X: \", x)\n",
    "print(\"Shape: \", x.shape)"
   ]
  },
  {
   "cell_type": "markdown",
   "id": "8d67017e",
   "metadata": {},
   "source": [
    "**=======================================================================**\n",
    "### Extração de elementos"
   ]
  },
  {
   "cell_type": "code",
   "execution_count": 5,
   "id": "36114c7c",
   "metadata": {},
   "outputs": [
    {
     "name": "stdout",
     "output_type": "stream",
     "text": [
      "Matriz 1D - X:  [ 10.  20.  30.  40.  50.  60.  70.  80.  90. 100.]\n",
      "Primeiro elemento:  10.0\n",
      "Segundo elemento:  20.0\n",
      "Último elemento:  100.0\n",
      "Último elemento:  100.0\n"
     ]
    }
   ],
   "source": [
    "print(\"Matriz 1D - X: \", x)\n",
    "print(\"Primeiro elemento: \", x[0])\n",
    "print(\"Segundo elemento: \", x[1])\n",
    "print(\"Último elemento: \", x[9])\n",
    "print(\"Último elemento: \", x[-1])"
   ]
  },
  {
   "cell_type": "markdown",
   "id": "ff1dc4ea",
   "metadata": {},
   "source": [
    "**=======================================================================**\n",
    "### Slicing: extração de subarrays"
   ]
  },
  {
   "cell_type": "code",
   "execution_count": 6,
   "id": "87713b08",
   "metadata": {},
   "outputs": [
    {
     "name": "stdout",
     "output_type": "stream",
     "text": [
      "Matriz 1D - X:  [ 10.  20.  30.  40.  50.  60.  70.  80.  90. 100.]\n",
      "Dois primeiros elementos:  [10. 20.]\n",
      "Dois primeiros elementos:  [10. 20.]\n",
      "Dois últimos elementos:  [ 90. 100.]\n"
     ]
    }
   ],
   "source": [
    "print(\"Matriz 1D - X: \", x)\n",
    "print(\"Dois primeiros elementos: \", x[0:2])\n",
    "print(\"Dois primeiros elementos: \", x[:2])\n",
    "print(\"Dois últimos elementos: \", x[-2:])"
   ]
  },
  {
   "cell_type": "markdown",
   "id": "1e43a5d8",
   "metadata": {},
   "source": [
    "**=======================================================================**\n",
    "### Slicing em arrays 2D (matrizes)"
   ]
  },
  {
   "cell_type": "code",
   "execution_count": 7,
   "id": "874411bd",
   "metadata": {},
   "outputs": [
    {
     "name": "stdout",
     "output_type": "stream",
     "text": [
      "X:\n",
      " [[ 10.  20.  30.  40.  50.]\n",
      " [ 60.  70.  80.  90. 100.]]\n"
     ]
    }
   ],
   "source": [
    "x = x.reshape(2, 5)  # reshape de x para 2 linhas e 5 colunas\n",
    "print(\"X:\\n\", x)"
   ]
  },
  {
   "cell_type": "code",
   "execution_count": 8,
   "id": "340a3b5c",
   "metadata": {},
   "outputs": [
    {
     "name": "stdout",
     "output_type": "stream",
     "text": [
      "Primeira linha, Segunda coluna:  20.0\n",
      "Segunda linha, Penúltima coluna:  90.0\n",
      "Última linha, Última coluna:  100.0\n",
      "Última linha, Última coluna:  100.0\n"
     ]
    }
   ],
   "source": [
    "# Extração de elementos:\n",
    "print(\"Primeira linha, Segunda coluna: \", x[0, 1])\n",
    "print(\"Segunda linha, Penúltima coluna: \", x[1, -2])\n",
    "print(\"Última linha, Última coluna: \", x[1, 4])\n",
    "print(\"Última linha, Última coluna: \", x[-1, -1])"
   ]
  },
  {
   "cell_type": "code",
   "execution_count": 9,
   "id": "74acd91e",
   "metadata": {},
   "outputs": [
    {
     "name": "stdout",
     "output_type": "stream",
     "text": [
      "x:\n",
      " [[ 10.  20.  30.  40.  50.]\n",
      " [ 60.  70.  80.  90. 100.]]\n",
      "Primeira linha inteira:  [10. 20. 30. 40. 50.]\n",
      "Primeira linha, Segunda a quarta coluna:  [20. 30. 40.]\n",
      "Última coluna inteira:\n",
      "  [[ 50.]\n",
      " [100.]]\n"
     ]
    }
   ],
   "source": [
    "# slicing: extração de subarrays:\n",
    "print(\"x:\\n\", x)\n",
    "print(\"Primeira linha inteira: \", x[0, :])\n",
    "print(\"Primeira linha, Segunda a quarta coluna: \", x[0, 1:4])\n",
    "print(\"Última coluna inteira:\\n \", x[:, [-1]])"
   ]
  }
 ],
 "metadata": {
  "kernelspec": {
   "display_name": "Python 3 (ipykernel)",
   "language": "python",
   "name": "python3"
  },
  "language_info": {
   "codemirror_mode": {
    "name": "ipython",
    "version": 3
   },
   "file_extension": ".py",
   "mimetype": "text/x-python",
   "name": "python",
   "nbconvert_exporter": "python",
   "pygments_lexer": "ipython3",
   "version": "3.10.6"
  }
 },
 "nbformat": 4,
 "nbformat_minor": 5
}
