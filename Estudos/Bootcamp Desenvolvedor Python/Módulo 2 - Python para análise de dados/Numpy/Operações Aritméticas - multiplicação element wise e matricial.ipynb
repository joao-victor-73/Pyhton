{
 "cells": [
  {
   "cell_type": "code",
   "execution_count": 1,
   "id": "3440b4f8",
   "metadata": {},
   "outputs": [],
   "source": [
    "# Importando bilbioteca\n",
    "import numpy as np"
   ]
  },
  {
   "cell_type": "markdown",
   "id": "cc74c5b1",
   "metadata": {},
   "source": [
    "# Operações Aritméticas:\n",
    "### Multiplicação element wise e matricial"
   ]
  },
  {
   "cell_type": "code",
   "execution_count": 2,
   "id": "db046011",
   "metadata": {},
   "outputs": [
    {
     "name": "stdout",
     "output_type": "stream",
     "text": [
      "X: \n",
      " [[1. 1.]\n",
      " [1. 1.]]\n",
      "Y: \n",
      " [[1. 0.]\n",
      " [0. 1.]]\n"
     ]
    }
   ],
   "source": [
    "# Criação de dois arrays X e Y\n",
    "x = np.ones((2, 2))\n",
    "y = np.eye(2)\n",
    "print(\"X: \\n\", x)\n",
    "print(\"Y: \\n\", y)"
   ]
  },
  {
   "cell_type": "code",
   "execution_count": 8,
   "id": "e6e0ba9b",
   "metadata": {},
   "outputs": [
    {
     "name": "stdout",
     "output_type": "stream",
     "text": [
      "Multiplicação de dois arrays:\n",
      "  [[1. 0.]\n",
      " [0. 1.]]\n",
      "\n",
      "Multiplicação com float/int:\n",
      "  [[2. 2.]\n",
      " [2. 2.]]\n"
     ]
    }
   ],
   "source": [
    "# Multiplicação:\n",
    "print(\"Multiplicação de dois arrays:\\n \", x * y)\n",
    "print(\"\\nMultiplicação com float/int:\\n \", x * 2) # briadcasting"
   ]
  },
  {
   "cell_type": "code",
   "execution_count": 7,
   "id": "c094dc75",
   "metadata": {},
   "outputs": [
    {
     "name": "stdout",
     "output_type": "stream",
     "text": [
      "Multiplicação Matricial (usando np.dot):\n",
      "  [[1. 1.]\n",
      " [1. 1.]]\n",
      "\n",
      "Multiplicação Matricial (usando @):\n",
      "  [[1. 1.]\n",
      " [1. 1.]]\n",
      "\n",
      "Multiplicação Matricial (usando .dot):\n",
      "  [[1. 1.]\n",
      " [1. 1.]]\n"
     ]
    }
   ],
   "source": [
    "# Multiplicação matricial:\n",
    "print(\"Multiplicação Matricial (usando np.dot):\\n \", np.dot(x, y))\n",
    "print(\"\\nMultiplicação Matricial (usando @):\\n \", x @ y)\n",
    "print(\"\\nMultiplicação Matricial (usando .dot):\\n \", x.dot(y))"
   ]
  },
  {
   "cell_type": "code",
   "execution_count": null,
   "id": "84fbfce0",
   "metadata": {},
   "outputs": [],
   "source": []
  }
 ],
 "metadata": {
  "kernelspec": {
   "display_name": "Python 3 (ipykernel)",
   "language": "python",
   "name": "python3"
  },
  "language_info": {
   "codemirror_mode": {
    "name": "ipython",
    "version": 3
   },
   "file_extension": ".py",
   "mimetype": "text/x-python",
   "name": "python",
   "nbconvert_exporter": "python",
   "pygments_lexer": "ipython3",
   "version": "3.10.6"
  }
 },
 "nbformat": 4,
 "nbformat_minor": 5
}
