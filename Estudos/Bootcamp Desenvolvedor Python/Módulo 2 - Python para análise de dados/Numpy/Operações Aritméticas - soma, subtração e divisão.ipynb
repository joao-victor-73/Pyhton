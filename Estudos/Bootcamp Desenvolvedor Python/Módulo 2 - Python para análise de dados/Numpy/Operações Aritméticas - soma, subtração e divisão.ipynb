{
 "cells": [
  {
   "cell_type": "code",
   "execution_count": 2,
   "id": "1dfdd50b",
   "metadata": {},
   "outputs": [],
   "source": [
    "# Importando bilbioteca\n",
    "import numpy as np"
   ]
  },
  {
   "cell_type": "markdown",
   "id": "14a004fa",
   "metadata": {},
   "source": [
    "# Operações Aritméticas:\n",
    "### soma, subtração e divisão"
   ]
  },
  {
   "cell_type": "code",
   "execution_count": 3,
   "id": "dff155f5",
   "metadata": {},
   "outputs": [
    {
     "name": "stdout",
     "output_type": "stream",
     "text": [
      "X: \n",
      " [[1. 1.]\n",
      " [1. 1.]]\n",
      "Y: \n",
      " [[1. 0.]\n",
      " [0. 1.]]\n"
     ]
    }
   ],
   "source": [
    "# Criação de dois arrays X e Y\n",
    "x = np.ones((2, 2))\n",
    "y = np.eye(2)\n",
    "print(\"X: \\n\", x)\n",
    "print(\"Y: \\n\", y)"
   ]
  },
  {
   "cell_type": "markdown",
   "id": "cfa5bf6e",
   "metadata": {},
   "source": [
    "#### Soma:"
   ]
  },
  {
   "cell_type": "code",
   "execution_count": 4,
   "id": "e7a8c31f",
   "metadata": {},
   "outputs": [
    {
     "name": "stdout",
     "output_type": "stream",
     "text": [
      "A Soma de dois arrays:\n",
      " [[2. 1.]\n",
      " [1. 2.]]\n",
      "\n",
      "A Soma com float/int:\n",
      " [[3. 3.]\n",
      " [3. 3.]]\n"
     ]
    }
   ],
   "source": [
    "print(\"A Soma de dois arrays:\\n\", x + y)\n",
    "print()\n",
    "print(\"A Soma com float/int:\\n\", x + 2) # broadcasting"
   ]
  },
  {
   "cell_type": "markdown",
   "id": "b7e03cdd",
   "metadata": {},
   "source": [
    "#### Subtração:"
   ]
  },
  {
   "cell_type": "code",
   "execution_count": 5,
   "id": "96ca1732",
   "metadata": {},
   "outputs": [
    {
     "name": "stdout",
     "output_type": "stream",
     "text": [
      "A Soma de dois arrays:\n",
      " [[0. 1.]\n",
      " [1. 0.]]\n",
      "\n",
      "A Soma com float/int:\n",
      " [[-1. -1.]\n",
      " [-1. -1.]]\n"
     ]
    }
   ],
   "source": [
    "print(\"A Soma de dois arrays:\\n\", x - y)\n",
    "print()\n",
    "print(\"A Soma com float/int:\\n\", x - 2) # broadcasting"
   ]
  },
  {
   "cell_type": "markdown",
   "id": "eecefb1c",
   "metadata": {},
   "source": [
    "#### Divisão:"
   ]
  },
  {
   "cell_type": "code",
   "execution_count": 6,
   "id": "71562d4f",
   "metadata": {},
   "outputs": [
    {
     "name": "stdout",
     "output_type": "stream",
     "text": [
      "A Soma de dois arrays:\n",
      " [[ 1. inf]\n",
      " [inf  1.]]\n",
      "\n",
      "A Soma com float/int:\n",
      " [[0.5 0.5]\n",
      " [0.5 0.5]]\n"
     ]
    },
    {
     "name": "stderr",
     "output_type": "stream",
     "text": [
      "C:\\Users\\jvt86\\AppData\\Local\\Temp\\ipykernel_3216\\3533220520.py:1: RuntimeWarning: divide by zero encountered in divide\n",
      "  print(\"A Soma de dois arrays:\\n\", x / y)\n"
     ]
    }
   ],
   "source": [
    "print(\"A Soma de dois arrays:\\n\", x / y)\n",
    "# Vai retornar um erro (inf) porque o valor dividido por 0 vai resultar\n",
    "# em algo que não existe ao certo.\n",
    "print()\n",
    "print(\"A Soma com float/int:\\n\", x / 2) # broadcasting"
   ]
  },
  {
   "cell_type": "markdown",
   "id": "c3441e6d",
   "metadata": {},
   "source": [
    "#### Fazendo várias operações de uma vez:"
   ]
  },
  {
   "cell_type": "code",
   "execution_count": 7,
   "id": "9a9ecd77",
   "metadata": {},
   "outputs": [
    {
     "name": "stdout",
     "output_type": "stream",
     "text": [
      "Combinação de operações: \n",
      " [[-2. -1.]\n",
      " [-1. -2.]]\n"
     ]
    }
   ],
   "source": [
    "print(\"Combinação de operações: \\n\", (x+y)/(x-2))"
   ]
  }
 ],
 "metadata": {
  "kernelspec": {
   "display_name": "Python 3 (ipykernel)",
   "language": "python",
   "name": "python3"
  },
  "language_info": {
   "codemirror_mode": {
    "name": "ipython",
    "version": 3
   },
   "file_extension": ".py",
   "mimetype": "text/x-python",
   "name": "python",
   "nbconvert_exporter": "python",
   "pygments_lexer": "ipython3",
   "version": "3.10.6"
  }
 },
 "nbformat": 4,
 "nbformat_minor": 5
}
