{
 "cells": [
  {
   "cell_type": "markdown",
   "id": "7be87dec",
   "metadata": {},
   "source": [
    "# Comparações e indexação booleana"
   ]
  },
  {
   "cell_type": "code",
   "execution_count": 1,
   "id": "c5d33c51",
   "metadata": {},
   "outputs": [],
   "source": [
    "import numpy as np"
   ]
  },
  {
   "cell_type": "code",
   "execution_count": 2,
   "id": "8be3571f",
   "metadata": {},
   "outputs": [
    {
     "name": "stdout",
     "output_type": "stream",
     "text": [
      "X: \n",
      " [[1 2]\n",
      " [3 4]]\n",
      "Y: \n",
      " [1.5 3.5]\n"
     ]
    }
   ],
   "source": [
    "# Criação dos arrays:\n",
    "x = np.array([[1, 2], [3, 4]])\n",
    "y = np.array([1.5, 3.5])\n",
    "print(\"X: \\n\", x)\n",
    "print(\"Y: \\n\", y)"
   ]
  },
  {
   "cell_type": "markdown",
   "id": "3e853a9f",
   "metadata": {},
   "source": [
    "#### ========================================================"
   ]
  },
  {
   "cell_type": "markdown",
   "id": "93500666",
   "metadata": {},
   "source": [
    "#### Comparações ponto a ponto"
   ]
  },
  {
   "cell_type": "code",
   "execution_count": 5,
   "id": "36b38566",
   "metadata": {},
   "outputs": [
    {
     "name": "stdout",
     "output_type": "stream",
     "text": [
      "Comparação de um array com um escalar (>): \n",
      "[[False False]\n",
      " [ True  True]]\n",
      "\n",
      "Comparação de um array com um escalar (>=): \n",
      "[[False  True]\n",
      " [ True  True]]\n",
      "\n",
      "Comparação de um array com um escalar (<)): \n",
      "[[ True False]\n",
      " [False False]]\n",
      "\n",
      "Comparação de um array com um escalar (<=): \n",
      "[[ True  True]\n",
      " [False False]]\n",
      "\n",
      "Comparação entre arrays (==): \n",
      "[[ True  True]\n",
      " [ True  True]]\n",
      "\n",
      "Comparação entre arrays (>): \n",
      "[[False False]\n",
      " [False False]]\n",
      "\n",
      "Comparação entre arrays (>): \n",
      "[[False False]\n",
      " [ True  True]]\n",
      "\n"
     ]
    }
   ],
   "source": [
    "print(f\"Comparação de um array com um escalar (>): \\n{x > 2}\")\n",
    "print()\n",
    "print(f\"Comparação de um array com um escalar (>=): \\n{x >= 2}\")\n",
    "print()\n",
    "print(f\"Comparação de um array com um escalar (<)): \\n{x < 2}\")\n",
    "print()\n",
    "print(f\"Comparação de um array com um escalar (<=): \\n{x <= 2}\")\n",
    "print()\n",
    "print(f\"Comparação entre arrays (==): \\n{x == x}\")\n",
    "print()\n",
    "print(f\"Comparação entre arrays (>): \\n{x > x}\")\n",
    "print()\n",
    "print(f\"Comparação entre arrays (>): \\n{x > y}\")  # broadcasting\n",
    "print()"
   ]
  },
  {
   "cell_type": "markdown",
   "id": "3aeb70e7",
   "metadata": {},
   "source": [
    "#### ========================================================"
   ]
  },
  {
   "cell_type": "markdown",
   "id": "eef602d7",
   "metadata": {},
   "source": [
    "### Indexação Booleana"
   ]
  },
  {
   "cell_type": "code",
   "execution_count": 6,
   "id": "816b643b",
   "metadata": {},
   "outputs": [
    {
     "name": "stdout",
     "output_type": "stream",
     "text": [
      "X:\n",
      " [[ 1  3  7]\n",
      " [ 4 11 21]\n",
      " [42  8  9]]\n"
     ]
    }
   ],
   "source": [
    "x = np.array([[1, 3, 7],\n",
    "              [4, 11, 21],\n",
    "              [42, 8, 9]])\n",
    "\n",
    "print(\"X:\\n\", x)"
   ]
  },
  {
   "cell_type": "code",
   "execution_count": 10,
   "id": "61608082",
   "metadata": {},
   "outputs": [
    {
     "name": "stdout",
     "output_type": "stream",
     "text": [
      "Condição: \n",
      " [[False False False]\n",
      " [False  True  True]\n",
      " [ True False False]]\n",
      "\n",
      "Elementos maiores que 10: [11 21 42]\n",
      "Número de elementos maiores que 10: 3\n"
     ]
    }
   ],
   "source": [
    "# indexação booleana: retornar o número de elementos maiores que 'k'\n",
    "k = 10\n",
    "condicao = x > k\n",
    "\n",
    "print(f\"Condição: \\n {condicao}\")\n",
    "print(f\"\\nElementos maiores que {k}: {(x[condicao])}\")\n",
    "print(f\"Número de elementos maiores que {k}: {len(x[condicao])}\")"
   ]
  },
  {
   "cell_type": "code",
   "execution_count": 12,
   "id": "cd575b60",
   "metadata": {},
   "outputs": [
    {
     "name": "stdout",
     "output_type": "stream",
     "text": [
      "X:\n",
      " [[ 1  3  7]\n",
      " [ 4 11 21]\n",
      " [42  8  9]]\n",
      "\n",
      "Condição: \n",
      " [[False False False]\n",
      " [ True False False]\n",
      " [ True  True False]]\n",
      "\n",
      "Números pares: [ 4 42  8]\n"
     ]
    }
   ],
   "source": [
    "# indexação booleana: extração dos números pares\n",
    "print(\"X:\\n\", x)\n",
    "\n",
    "condicao = x % 2 == 0\n",
    "\n",
    "print(f\"\\nCondição: \\n {condicao}\")\n",
    "print(f\"\\nNúmeros pares: {x[condicao]}\")"
   ]
  },
  {
   "cell_type": "code",
   "execution_count": 13,
   "id": "5c7199c6",
   "metadata": {},
   "outputs": [
    {
     "name": "stdout",
     "output_type": "stream",
     "text": [
      "X:\n",
      " [[ 1  3  7]\n",
      " [ 4 11 21]\n",
      " [42  8  9]]\n",
      "\n",
      "Condição: \n",
      " [[ True  True  True]\n",
      " [False  True  True]\n",
      " [False False  True]]\n",
      "\n",
      "Números ímpares: [ 1  3  7 11 21  9]\n"
     ]
    }
   ],
   "source": [
    "# indexação booleana: extração dos números ímpares\n",
    "print(\"X:\\n\", x)\n",
    "\n",
    "condicao = x % 2 == 1\n",
    "\n",
    "print(f\"\\nCondição: \\n {condicao}\")\n",
    "print(f\"\\nNúmeros ímpares: {x[condicao]}\")"
   ]
  }
 ],
 "metadata": {
  "kernelspec": {
   "display_name": "Python 3 (ipykernel)",
   "language": "python",
   "name": "python3"
  },
  "language_info": {
   "codemirror_mode": {
    "name": "ipython",
    "version": 3
   },
   "file_extension": ".py",
   "mimetype": "text/x-python",
   "name": "python",
   "nbconvert_exporter": "python",
   "pygments_lexer": "ipython3",
   "version": "3.10.6"
  }
 },
 "nbformat": 4,
 "nbformat_minor": 5
}
