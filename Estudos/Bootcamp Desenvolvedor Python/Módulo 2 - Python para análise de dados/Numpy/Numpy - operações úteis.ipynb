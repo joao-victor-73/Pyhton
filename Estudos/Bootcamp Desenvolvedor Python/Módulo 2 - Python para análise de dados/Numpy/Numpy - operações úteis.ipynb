{
 "cells": [
  {
   "cell_type": "markdown",
   "id": "7b6a10f1",
   "metadata": {},
   "source": [
    "# Operações úteis em Numpy"
   ]
  },
  {
   "cell_type": "code",
   "execution_count": 1,
   "id": "91fde8a2",
   "metadata": {},
   "outputs": [],
   "source": [
    "import numpy as np"
   ]
  },
  {
   "cell_type": "code",
   "execution_count": 3,
   "id": "d48b4a8a",
   "metadata": {},
   "outputs": [
    {
     "name": "stdout",
     "output_type": "stream",
     "text": [
      "X: \n",
      " [[ 1  3  7]\n",
      " [ 4 11 21]\n",
      " [42  8  9]]\n"
     ]
    }
   ],
   "source": [
    "# Criação do array:\n",
    "x = np.array([[1, 3, 7],\n",
    "              [4, 11, 21],\n",
    "              [42, 8, 9]])\n",
    "\n",
    "print(\"X: \\n\", x)"
   ]
  },
  {
   "cell_type": "markdown",
   "id": "d799d350",
   "metadata": {},
   "source": [
    "#### ___________________________________________________________________\n",
    "***Reshape***: transformar a matriz em um vetor coluna"
   ]
  },
  {
   "cell_type": "code",
   "execution_count": 11,
   "id": "68bd8b8f",
   "metadata": {},
   "outputs": [
    {
     "name": "stdout",
     "output_type": "stream",
     "text": [
      "Transformação de matriz em um vetor coluna: \n",
      " [[ 1]\n",
      " [ 3]\n",
      " [ 7]\n",
      " [ 4]\n",
      " [11]\n",
      " [21]\n",
      " [42]\n",
      " [ 8]\n",
      " [ 9]]\n"
     ]
    }
   ],
   "source": [
    "# O array criado é 3x3, então 3*3 = 9 \n",
    "# então, a partir de uma matriz bidimensional, criaremos uma unidimensional.\n",
    "\n",
    "print(f\"Transformação de matriz em um vetor coluna: \\n {x.reshape(9, 1)}\")\n",
    "# 9 linhas / 1 coluna"
   ]
  },
  {
   "cell_type": "code",
   "execution_count": 7,
   "id": "c56da800",
   "metadata": {},
   "outputs": [
    {
     "name": "stdout",
     "output_type": "stream",
     "text": [
      "X transposta: \n",
      " [[ 1  4 42]\n",
      " [ 3 11  8]\n",
      " [ 7 21  9]]\n"
     ]
    }
   ],
   "source": [
    "# Transposição de matriz:\n",
    "# O que é coluna, vira linha\n",
    "# E o que é linha, vira coluna\n",
    "\n",
    "print(f\"X transposta: \\n {x.T}\")"
   ]
  },
  {
   "cell_type": "markdown",
   "id": "7ec42a33",
   "metadata": {},
   "source": [
    "#### Soma da matriz"
   ]
  },
  {
   "cell_type": "code",
   "execution_count": 14,
   "id": "60879739",
   "metadata": {},
   "outputs": [
    {
     "name": "stdout",
     "output_type": "stream",
     "text": [
      "X:\n",
      " [[ 1  3  7]\n",
      " [ 4 11 21]\n",
      " [42  8  9]]\n",
      "\n",
      "Soma de todos os elementos de X: 106\n",
      "Soma de X ao longo das linhas: [47 22 37]\n",
      "Soma de X ao longo das colunas: [11 36 59]\n"
     ]
    }
   ],
   "source": [
    "# np.sum = soma em um dados eixo, axis{0 : linha, 1 : coluna}\n",
    "print(\"X:\\n\", x)\n",
    "\n",
    "print(f\"\\nSoma de todos os elementos de X: {np.sum(x)}\")\n",
    "print(f\"Soma de X ao longo das linhas: {np.sum(x, axis=0)}\")\n",
    "print(f\"Soma de X ao longo das colunas: {np.sum(x, axis=1)}\")"
   ]
  },
  {
   "cell_type": "markdown",
   "id": "06c42121",
   "metadata": {},
   "source": [
    "#### Média da matriz"
   ]
  },
  {
   "cell_type": "code",
   "execution_count": 15,
   "id": "dade98c4",
   "metadata": {},
   "outputs": [
    {
     "name": "stdout",
     "output_type": "stream",
     "text": [
      "X:\n",
      " [[ 1  3  7]\n",
      " [ 4 11 21]\n",
      " [42  8  9]]\n",
      "\n",
      "Média de todos os elementos de X: 11.777777777777779\n",
      "Média de X ao longo das linhas: [15.66666667  7.33333333 12.33333333]\n",
      "Média de X ao longo das colunas: [ 3.66666667 12.         19.66666667]\n"
     ]
    }
   ],
   "source": [
    "# np.mean = média em um dado eixo, axis = {0 : linha, 1 : coluna}\n",
    "print(\"X:\\n\", x)\n",
    "\n",
    "print(f\"\\nMédia de todos os elementos de X: {np.mean(x)}\")\n",
    "print(f\"Média de X ao longo das linhas: {np.mean(x, axis=0)}\")\n",
    "print(f\"Média de X ao longo das colunas: {np.mean(x, axis=1)}\")\n",
    "\n",
    "# Obs: para a mediana, basta utilizar np.median"
   ]
  },
  {
   "cell_type": "markdown",
   "id": "7452271e",
   "metadata": {},
   "source": [
    "#### Encontrar um índice na matriz"
   ]
  },
  {
   "cell_type": "code",
   "execution_count": 16,
   "id": "c5647fac",
   "metadata": {},
   "outputs": [
    {
     "name": "stdout",
     "output_type": "stream",
     "text": [
      "Condição: \n",
      " [[False False False]\n",
      " [ True False False]\n",
      " [ True  True False]]\n",
      "\n",
      "Índice i (linhas):  [1 2 2]\n",
      "Índice j (colunas):  [0 0 1]\n"
     ]
    }
   ],
   "source": [
    "# np.where, identificação dos índices onde uma dada condição é atendida\n",
    "# Uso conjunto com indexação booleana.\n",
    "\n",
    "condicao = x % 2 == 0\n",
    "\n",
    "print(\"Condição: \\n\", condicao)\n",
    "\n",
    "i, j = np.where(condicao) # Indices x[i, j] = x[condicao]\n",
    "print()\n",
    "\n",
    "print(\"Índice i (linhas): \", i)\n",
    "print(\"Índice j (colunas): \", j)"
   ]
  },
  {
   "cell_type": "markdown",
   "id": "e7ffd5f4",
   "metadata": {},
   "source": [
    "**_________________________________________________________________________**\n",
    "#### Indexação booleana e Slicing\n",
    "Seleciona as linhas de **x** que possuem algum número par"
   ]
  },
  {
   "cell_type": "code",
   "execution_count": 17,
   "id": "f6c6484d",
   "metadata": {},
   "outputs": [
    {
     "name": "stdout",
     "output_type": "stream",
     "text": [
      "X:\n",
      " [[ 1  3  7]\n",
      " [ 4 11 21]\n",
      " [42  8  9]]\n",
      "Condição: \n",
      " [[False False False]\n",
      " [ True False False]\n",
      " [ True  True False]]\n"
     ]
    }
   ],
   "source": [
    "print(\"X:\\n\", x)\n",
    "\n",
    "condicao = x % 2 == 0\n",
    "print(\"Condição: \\n\", condicao)\n",
    "\n",
    "# Se houver alguma condição True na linha, a soma será > 0\n",
    "i_row = np.where(np.sum(condicao, axis=1))[0]\n",
    "\n",
    "print(\"Índice das linhas que possuem números pares: \", i_row)\n",
    "print(\"Linhas que possuem número pares: \\n\", x[i_row, :])"
   ]
  },
  {
   "cell_type": "code",
   "execution_count": null,
   "id": "f3a67ec5",
   "metadata": {},
   "outputs": [],
   "source": []
  }
 ],
 "metadata": {
  "kernelspec": {
   "display_name": "Python 3 (ipykernel)",
   "language": "python",
   "name": "python3"
  },
  "language_info": {
   "codemirror_mode": {
    "name": "ipython",
    "version": 3
   },
   "file_extension": ".py",
   "mimetype": "text/x-python",
   "name": "python",
   "nbconvert_exporter": "python",
   "pygments_lexer": "ipython3",
   "version": "3.10.6"
  }
 },
 "nbformat": 4,
 "nbformat_minor": 5
}
