{
 "cells": [
  {
   "cell_type": "markdown",
   "id": "3f1ed90c",
   "metadata": {},
   "source": [
    "# Regressão linear no scikit-learn I"
   ]
  },
  {
   "cell_type": "code",
   "execution_count": 1,
   "id": "d9ede31a",
   "metadata": {},
   "outputs": [],
   "source": [
    "# Dados:\n",
    "x = [-1, -0.77778, -0.555556, -0.3333333, -0.111111111, \n",
    "     0.111111111, 0.3333333, 0.555555556, 0.777777788, 1]\n",
    "\n",
    "y = [-1.12632654, -0.57177999, -0.2169703, 0.5425699, 0.49406657, \n",
    "    1.14972239, 1.64228553, 2.1749824, 2.64773614, 2.95684201]"
   ]
  },
  {
   "cell_type": "code",
   "execution_count": null,
   "id": "60f59bb4",
   "metadata": {},
   "outputs": [],
   "source": []
  },
  {
   "cell_type": "code",
   "execution_count": null,
   "id": "e2e07111",
   "metadata": {},
   "outputs": [],
   "source": []
  },
  {
   "cell_type": "markdown",
   "id": "0f61c199",
   "metadata": {},
   "source": [
    "**---------------------------------------------------------------------------------------------------------------------------**\n",
    "\n",
    "---\n",
    "\n",
    "**---------------------------------------------------------------------------------------------------------------------------**\n"
   ]
  },
  {
   "cell_type": "code",
   "execution_count": null,
   "id": "5fcf8bf5",
   "metadata": {},
   "outputs": [],
   "source": []
  },
  {
   "cell_type": "code",
   "execution_count": null,
   "id": "40e1f1d5",
   "metadata": {},
   "outputs": [],
   "source": []
  },
  {
   "cell_type": "code",
   "execution_count": null,
   "id": "7f1c0967",
   "metadata": {},
   "outputs": [],
   "source": []
  },
  {
   "cell_type": "code",
   "execution_count": null,
   "id": "e904da81",
   "metadata": {},
   "outputs": [],
   "source": []
  },
  {
   "cell_type": "code",
   "execution_count": null,
   "id": "271ad782",
   "metadata": {},
   "outputs": [],
   "source": []
  },
  {
   "cell_type": "code",
   "execution_count": null,
   "id": "c69a5e50",
   "metadata": {},
   "outputs": [],
   "source": []
  },
  {
   "cell_type": "markdown",
   "id": "a21519c3",
   "metadata": {},
   "source": [
    "# Regressão linear no scikit-learn II"
   ]
  },
  {
   "cell_type": "code",
   "execution_count": null,
   "id": "4bb71861",
   "metadata": {},
   "outputs": [],
   "source": []
  },
  {
   "cell_type": "markdown",
   "id": "211abdb6",
   "metadata": {},
   "source": [
    "**---------------------------------------------------------------------------------------------------------------------------**\n",
    "\n",
    "---\n",
    "\n",
    "**---------------------------------------------------------------------------------------------------------------------------**\n"
   ]
  }
 ],
 "metadata": {
  "kernelspec": {
   "display_name": "Python 3 (ipykernel)",
   "language": "python",
   "name": "python3"
  },
  "language_info": {
   "codemirror_mode": {
    "name": "ipython",
    "version": 3
   },
   "file_extension": ".py",
   "mimetype": "text/x-python",
   "name": "python",
   "nbconvert_exporter": "python",
   "pygments_lexer": "ipython3",
   "version": "3.10.6"
  }
 },
 "nbformat": 4,
 "nbformat_minor": 5
}
